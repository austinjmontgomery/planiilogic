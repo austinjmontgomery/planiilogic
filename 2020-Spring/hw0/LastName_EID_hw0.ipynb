{
 "cells": [
  {
   "cell_type": "markdown",
   "metadata": {},
   "source": [
    "# Assignment 0 - Due Class 2 (1/23/20)\n",
    "\n",
    "Welcome to Assignment 0! Why zero? We'll discuss it in Class 5!\n",
    "\n",
    "**Submission instructions:** Paul will share a Box upload link with you. Complete your answers to the questions below by double-clicking on each box and writing your answers. Use \"Shift-Return\" to store your new text in each answer box. Save the notebook, including your last name and UT EID in the file name, then upload the file to Box using the link. That's it!\n",
    "\n",
    "\n",
    "## Objectives\n",
    "1. Verify that you can access the Jupyter Notebook system.\n",
    "2. Verify that you can create a notebook, save it, and submit it via Box.\n",
    "3. Share your experience and initial impressions of the class material to help Paul tailor class content."
   ]
  },
  {
   "cell_type": "markdown",
   "metadata": {},
   "source": [
    "## Student Info\n",
    "\n",
    "**Name:** *(your name here)*\n",
    "\n",
    "**UT EID:** *(your eid here)*"
   ]
  },
  {
   "cell_type": "markdown",
   "metadata": {},
   "source": [
    "## Question 1 - What would you like to achieve in this course?"
   ]
  },
  {
   "cell_type": "markdown",
   "metadata": {},
   "source": [
    "*(answer to Q1 here)*"
   ]
  },
  {
   "cell_type": "markdown",
   "metadata": {},
   "source": [
    "## Question 2 - Any experience with computer programming before? If so, please describe."
   ]
  },
  {
   "cell_type": "markdown",
   "metadata": {},
   "source": [
    "*(answer to Q2 here)*"
   ]
  },
  {
   "cell_type": "markdown",
   "metadata": {},
   "source": [
    "## Question 3 - In a paragraph (or two), please describe your impressions of artificial intelligence (machine learning, deep learning, neural networks) in our world. What do you think about their potential (for good and/or ill)?\n",
    "*NOTE: if you have no current impressions, do an internet search for any of the four terms above and read the top five hits :-)*"
   ]
  },
  {
   "cell_type": "markdown",
   "metadata": {},
   "source": [
    "*(answer to Q3 here)*"
   ]
  },
  {
   "cell_type": "code",
   "execution_count": null,
   "metadata": {},
   "outputs": [],
   "source": []
  }
 ],
 "metadata": {
  "kernelspec": {
   "display_name": "Python 3",
   "language": "python",
   "name": "python3"
  },
  "language_info": {
   "codemirror_mode": {
    "name": "ipython",
    "version": 3
   },
   "file_extension": ".py",
   "mimetype": "text/x-python",
   "name": "python",
   "nbconvert_exporter": "python",
   "pygments_lexer": "ipython3",
   "version": "3.7.6"
  }
 },
 "nbformat": 4,
 "nbformat_minor": 2
}
